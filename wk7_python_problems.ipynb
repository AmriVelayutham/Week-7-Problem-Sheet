{
 "cells": [
  {
   "cell_type": "markdown",
   "id": "71e6d84b-e533-41d6-9ad0-07a6ea241f25",
   "metadata": {},
   "source": [
    "# Tutorial problems for Michaelmas term week 7\n",
    "\n",
    "I've provided a set of exercises for tutorials that follow on from each in-class lesson. I hope\n",
    "you can work through these in your own time and get feedback and support from your mathematics tutor.\n",
    "I would be keen to hear feedback about the\n",
    "exercises - both from students and tutors. Is the material too hard or too easy (or both)? Have I managed\n",
    "to bridge the Christmas vacation in a way that helps you come to the start of Hilary term without forgetting\n",
    "what you are learning now? Are you ready for the programming associated with the statistics part of the course?\n",
    "\n",
    "The aim of this week's problems is to:\n",
    "\n",
    " * Check you can log onto the online computer and access a Jupyter notebook from wherever you like to work.\n",
    " * Give you practice editing, running and saving a notebook\n",
    " * Practice editing python code to make it do something a bit different\n",
    " * Show you some of the syntax and ideas found in Python (and by extension other programming languages) \n",
    " \n",
    "To do this, I have provided a set of problems below. Please attempt these before your next tutorial and go to the tutorial ready to discuss any problems or questions.\n"
   ]
  },
  {
   "cell_type": "markdown",
   "id": "2f99851d-7440-488a-9692-df447afdc65a",
   "metadata": {},
   "source": [
    "## Problem 0.1:\n",
    "\n",
    "What values do the variables `mass` and `age` have after each statement in the following program? Document \n",
    "your answers in the markdown cell below, then test your answers by executing the commands.\n",
    "\n",
    "```\n",
    "mass = 47.5\n",
    "age = 122\n",
    "mass = mass * 2.0\n",
    "age = age - 20\n",
    "print(mass, age)\n",
    "```"
   ]
  },
  {
   "cell_type": "markdown",
   "id": "0145e3ce-474b-47eb-927d-11b2c8d5f370",
   "metadata": {},
   "source": [
    "**Write down your answers here:**\n",
    "\n",
    "It should be possible to work this out without writing or running a the code. "
   ]
  },
  {
   "cell_type": "markdown",
   "id": "352eb991-8871-495d-8bcc-ae958157c107",
   "metadata": {},
   "source": [
    "47.5*2=95.0, 122-2=102\n",
    "\n",
    "95.0, 102"
   ]
  },
  {
   "cell_type": "code",
   "execution_count": 1,
   "id": "6902ed4c-6228-4538-8a34-7d8740657d6d",
   "metadata": {},
   "outputs": [
    {
     "name": "stdout",
     "output_type": "stream",
     "text": [
      "95.0 102\n"
     ]
    }
   ],
   "source": [
    "# Test your answers here\n",
    "mass = 47.5\n",
    "age = 122\n",
    "mass = mass * 2.0\n",
    "age = age - 20\n",
    "print(mass, age)\n"
   ]
  },
  {
   "cell_type": "markdown",
   "id": "c2f70e02-8f11-4ffc-8f29-631ec4339ff2",
   "metadata": {},
   "source": [
    "## Problem 0.2:\n",
    "\n",
    "What does the following program print out?\n",
    "\n",
    "```\n",
    "first, second = 'Grace', 'Hopper'\n",
    "third, fourth = second, first\n",
    "print(third, fourth)\n",
    "```"
   ]
  },
  {
   "cell_type": "markdown",
   "id": "b50142b0-4e42-46f0-85ef-e9f7463d69e6",
   "metadata": {},
   "source": [
    "**Write down your answers here:**\n",
    "\n",
    "*It should be possible to work this out without writing or running a the code.*\n"
   ]
  },
  {
   "cell_type": "code",
   "execution_count": null,
   "id": "88368ab3-41e0-4c21-b4e2-dd923cff203e",
   "metadata": {},
   "outputs": [],
   "source": [
    "Hopper, Grace"
   ]
  },
  {
   "cell_type": "code",
   "execution_count": 1,
   "id": "a908e1b5-5ec5-4cb1-b918-9c7d7133c69d",
   "metadata": {},
   "outputs": [
    {
     "name": "stdout",
     "output_type": "stream",
     "text": [
      "Hopper Grace\n"
     ]
    }
   ],
   "source": [
    "# Test your answers here\n",
    "first, second = 'Grace', 'Hopper'\n",
    "third, fourth = second, first\n",
    "print(third, fourth)\n"
   ]
  },
  {
   "cell_type": "markdown",
   "id": "aeaf6422-f6af-4161-88a4-d70765b045a3",
   "metadata": {},
   "source": [
    "## Problem 1.1:\n",
    "\n",
    "A section of an array or a list is called a *slice*. We can take slices of character strings as well. For example:\n",
    "\n",
    "```\n",
    "element = 'oxygen'\n",
    "print('first three characters:', element[0:3])\n",
    "print('last three characters:', element[3:6])\n",
    "```\n",
    "\n",
    "Would output:\n",
    "\n",
    "```\n",
    "first three characters: oxy\n",
    "last three characters: gen\n",
    "```\n",
    "\n",
    "What is the value of `element[:4]`? What about `element[4:]`? Or `element[:]`?\n"
   ]
  },
  {
   "cell_type": "markdown",
   "id": "43037794-4b12-448e-a020-0aeb459edb2b",
   "metadata": {},
   "source": [
    "**Write down your answers here:**\n",
    "\n"
   ]
  },
  {
   "cell_type": "markdown",
   "id": "52ab05e6-a8a2-4e28-8887-0f2b67306e5c",
   "metadata": {},
   "source": [
    "[:4] is start to fourth i.e. [0:4] so oxyg\n",
    "[4:] is fourth (excluding fourth) to end i.e. [4:6] so en\n",
    "[:] is start to end i.e. [0:6] so oxygen"
   ]
  },
  {
   "cell_type": "code",
   "execution_count": 2,
   "id": "a79734f7-9844-4237-8be4-5a8ed8a5fdf8",
   "metadata": {},
   "outputs": [
    {
     "name": "stdout",
     "output_type": "stream",
     "text": [
      "oxyg\n",
      "en\n",
      "oxygen\n"
     ]
    }
   ],
   "source": [
    "# Test your answers here\n",
    "element = 'oxygen'\n",
    "print(element[:4])\n",
    "print(element[4:])\n",
    "print(element[:])\n"
   ]
  },
  {
   "cell_type": "markdown",
   "id": "17e78faa-bc2a-4b67-a9f5-c6299199e0a1",
   "metadata": {},
   "source": [
    "## Problem 1.2:\n",
    "\n",
    "Work out what `element[-1]` using the cell below. What about `element[-2]`? Then explain what negative indices do."
   ]
  },
  {
   "cell_type": "code",
   "execution_count": 3,
   "id": "cddc5724-a653-46fb-ae9c-9425feacf921",
   "metadata": {},
   "outputs": [
    {
     "name": "stdout",
     "output_type": "stream",
     "text": [
      "n\n",
      "e\n"
     ]
    }
   ],
   "source": [
    "# Work out the solution here\n",
    "element = 'oxygen'\n",
    "print(element[-1])\n",
    "print(element[-2])\n"
   ]
  },
  {
   "cell_type": "markdown",
   "id": "de3d27d5-3e36-4d96-a5b0-cf3a3aef7591",
   "metadata": {},
   "source": [
    "**Explain what happens here:**\n",
    "Negative indices look like they are counting backwards, so -1 is last letter, -2 is second-to-last letter\n",
    "\n"
   ]
  },
  {
   "cell_type": "markdown",
   "id": "1c604cdb-b4f7-4c69-96d2-65f7cfc32e03",
   "metadata": {},
   "source": [
    "## Problem 1.3:\n",
    "\n",
    "Given those answers, explain what `element[1:-1]` does."
   ]
  },
  {
   "cell_type": "code",
   "execution_count": 4,
   "id": "1d644913-1372-44db-b977-163f0b39eeec",
   "metadata": {},
   "outputs": [
    {
     "name": "stdout",
     "output_type": "stream",
     "text": [
      "xyge\n"
     ]
    }
   ],
   "source": [
    "# Work out the solution here\n",
    "element = 'oxygen'\n",
    "\n",
    "print(element[1:-1])"
   ]
  },
  {
   "cell_type": "markdown",
   "id": "45087e08-b2d4-4154-9625-15a725200464",
   "metadata": {},
   "source": [
    "**Explain what happens here:**\n",
    "1 means print letters after first letter i.e. xygen\n",
    "Then -1 is first letter from the back i.e. n\n",
    "[1:-1] seems to have done [1:6] excluding [-1] but I don't know why exactly\n"
   ]
  },
  {
   "cell_type": "markdown",
   "id": "dd61a6ed-32bd-4f80-be02-1febe05c055e",
   "metadata": {},
   "source": [
    "## Problem 2.1\n",
    "\n",
    "Python has 7 arithmetic operators: `*`, `/`, `+`, `-`, `**`, `//` and `%`. Use the cell below to work out what they all do."
   ]
  },
  {
   "cell_type": "code",
   "execution_count": 28,
   "id": "646d7d97-61bf-44aa-84c9-0e9086d0627e",
   "metadata": {},
   "outputs": [
    {
     "data": {
      "text/plain": [
       "(4, 30, 12.666666666666666, 8.0, 2, 1, 81, 2)"
      ]
     },
     "execution_count": 28,
     "metadata": {},
     "output_type": "execute_result"
    }
   ],
   "source": [
    "# Work out the solution here\n",
    "35//8, 6*5, 38/3, 32/4, 1+1, 2-1, 3**4, 100%7"
   ]
  },
  {
   "cell_type": "markdown",
   "id": "1f10a1bc-190c-4553-a984-7828f4bc695b",
   "metadata": {},
   "source": [
    "**Explain what happens here:**\n",
    "* multiply\n",
    "/ divide\n",
    "+ add\n",
    "- subtract\n",
    "** raised to the power of\n",
    "// divide and round down to nearest integer\n",
    "% modulo (remainder)\n"
   ]
  },
  {
   "cell_type": "markdown",
   "id": "fa3690e7-0cb6-421d-9fb7-41610798d4b5",
   "metadata": {},
   "source": [
    "## Problem 2.2\n",
    "\n",
    "When we combine operators together into an expession, they are evaluated in a particulat order. What is the order?\n",
    "For example, what happens when you evaluate `2 + 3 * 10`? Is it different to `3 * 10 + 2`? How can you change this order?"
   ]
  },
  {
   "cell_type": "code",
   "execution_count": 30,
   "id": "c265e4fc-acc0-4b12-9707-80077791d09a",
   "metadata": {},
   "outputs": [
    {
     "data": {
      "text/plain": [
       "(32, 32, 36)"
      ]
     },
     "execution_count": 30,
     "metadata": {},
     "output_type": "execute_result"
    }
   ],
   "source": [
    "# Work out the solution here\n",
    "2+3*10, 3*10+2, 3*(10+2)"
   ]
  },
  {
   "cell_type": "markdown",
   "id": "6a789278-cafb-41ed-9980-e05d878ecd21",
   "metadata": {},
   "source": [
    "**Explain what happens here:**\n",
    "It follows BODMAS, we can change order by adding brackets\n"
   ]
  },
  {
   "cell_type": "markdown",
   "id": "d4884a35-dd9d-4867-b3a4-e4fdf42c5ada",
   "metadata": {},
   "source": [
    "## Problem 2.3\n",
    "\n",
    "Python has full support for complex numbers but uses `j` for the imaginary part (not $i$). For example $(7+3i)$ is written `(7 + 3j)`. Verify that complex numbers work as expected. For example, what is $i^2$?"
   ]
  },
  {
   "cell_type": "code",
   "execution_count": 36,
   "id": "6a394c25-8f45-47f3-8f60-e2b5c75481ee",
   "metadata": {},
   "outputs": [
    {
     "data": {
      "text/plain": [
       "((-1+0j), (1-0j), (-4+0j))"
      ]
     },
     "execution_count": 36,
     "metadata": {},
     "output_type": "execute_result"
    }
   ],
   "source": [
    "# Work out the solution here\n",
    "1j**2, -1j**2, (-2j)**2"
   ]
  },
  {
   "cell_type": "markdown",
   "id": "0d09b732-0b4f-4a80-9edb-c70f9bdc06f0",
   "metadata": {},
   "source": [
    "**Explain what happens here:**\n",
    "Output displays imaginary and real parts. j only works with a coefficient.\n"
   ]
  },
  {
   "cell_type": "markdown",
   "id": "644a4745-feda-4e50-8384-0015077813c4",
   "metadata": {
    "tags": []
   },
   "source": [
    "## Problem 3.1\n",
    "\n",
    "In problem 1 you looked at how strings, variables that represented collections of characters, could be accessed using *slices*.\n",
    "Here we'll look at how this works for lists and decide if slices work in the same way. \n",
    "\n",
    "We'll work with a list of elements created as follows:\n",
    "\n",
    "```\n",
    "elements = [\"hydrogen\", \"helium\", \"lithium\", \n",
    "            \"beryllium\", \"boron\", \"carbon\"]\n",
    "```\n",
    "\n",
    "once created we can print parts of this list: \n",
    "\n",
    "```\n",
    "print('first three elements:', elements[0:3])\n",
    "print('last three elements:', elements[3:6])\n",
    "```\n",
    "\n",
    "Would output:\n",
    "\n",
    "```\n",
    "first three characters: [\"hydrogen\", \"helium\", \"lithium\"]\n",
    "last three characters: [\"beryllium\", \"boron\", \"carbon\"]\n",
    "```\n",
    "\n",
    "What is the value of `elements[:4]`? What about `elements[4:]`? Or `elements[:]`?"
   ]
  },
  {
   "cell_type": "markdown",
   "id": "bbd91795-5c49-4fde-a866-0988cb7895bd",
   "metadata": {
    "jupyter": {
     "source_hidden": true
    }
   },
   "source": [
    "**Write down your answers here:**\n",
    "Prediction:\n",
    "[:4]: [hydrogen, helium, lithium, beryllium]\n",
    "[4:]: [boron, carbon]\n",
    "[:]: [hydrogen, helium, lithium, beryllium, boron, carbon]\n",
    "\n",
    "Having tested the answers, they seem to work similarly to strings"
   ]
  },
  {
   "cell_type": "code",
   "execution_count": 83,
   "id": "38cbfc5f-675d-4257-969e-2c56ee8b4531",
   "metadata": {},
   "outputs": [
    {
     "name": "stdout",
     "output_type": "stream",
     "text": [
      "['hydrogen', 'helium', 'lithium', 'beryllium']\n",
      "['boron', 'carbon']\n",
      "['hydrogen', 'helium', 'lithium', 'beryllium', 'boron', 'carbon']\n"
     ]
    }
   ],
   "source": [
    "# Test your answer here\n",
    "elements = [\"hydrogen\", \"helium\", \"lithium\", \n",
    "            \"beryllium\", \"boron\", \"carbon\"]\n",
    "\n",
    "print(elements[:4])\n",
    "print(elements[4:])\n",
    "print(elements[:])\n"
   ]
  },
  {
   "cell_type": "markdown",
   "id": "9fa6c72b-64fb-4897-9878-61b0479dcb88",
   "metadata": {},
   "source": [
    "## Problem 3.2\n",
    "\n",
    "Use the cells below to work out what negative indexes do for list (see problem 4.2 and 4.3). Do lists work like strings?"
   ]
  },
  {
   "cell_type": "code",
   "execution_count": 53,
   "id": "30699310-da61-49b4-9ed8-e14caf174294",
   "metadata": {},
   "outputs": [
    {
     "name": "stdout",
     "output_type": "stream",
     "text": [
      "carbon\n",
      "boron\n",
      "['helium', 'lithium', 'beryllium', 'boron']\n",
      "['hydrogen', 'helium', 'lithium', 'beryllium']\n",
      "['hydrogen', 'helium', 'lithium']\n",
      "['hydrogen', 'lithium']\n",
      "[]\n"
     ]
    }
   ],
   "source": [
    "# Do your working here\n",
    "elements = [\"hydrogen\", \"helium\", \"lithium\", \n",
    "            \"beryllium\", \"boron\", \"carbon\"]\n",
    "\n",
    "print(elements[-1])\n",
    "print(elements[-2])\n",
    "print(elements[1:-1])\n",
    "print(elements[0:-2])\n",
    "print(elements[0:-3])\n",
    "print(elements[0:-3:2])\n",
    "print(elements[0:3:-2])"
   ]
  },
  {
   "cell_type": "markdown",
   "id": "463543ff-6254-42fc-8db3-fcdf1a639bb9",
   "metadata": {},
   "source": [
    "**Explain what happens here**\n",
    "elements[-1] : last element\n",
    "elements[-2] : 2nd-last element\n",
    "elements[1:-1] : after 1st element, excluding last element\n",
    "elements[0:-2] : 1st element onwards, excluing last two elements\n",
    "elements[0:-3] : 1st element onwards, excluding last three elements\n",
    "elements[0:-3:2] : I don't know how I managed to exclude helium here\n",
    "elements[0:-3:2] : also don't know why this is a null set\n",
    "\n",
    "The lists still seem to work like strings\n"
   ]
  },
  {
   "cell_type": "markdown",
   "id": "3f6100af-5a77-42a0-ac61-544ca65d0bca",
   "metadata": {},
   "source": [
    "## Problem 3.3\n",
    "\n",
    "Lists access can also be via three indexes. Something like:\n",
    "\n",
    "```\n",
    "elements = [\"hydrogen\", \"helium\", \"lithium\", \n",
    "            \"beryllium\", \"boron\", \"carbon\"]\n",
    "\n",
    "print('Some elements:', elements[0:6:2])\n",
    "```\n",
    "\n",
    "Use the cell below to work out what the third index (2) does? What happens if this is negative?"
   ]
  },
  {
   "cell_type": "code",
   "execution_count": 158,
   "id": "51ad8b7b-9516-477f-8a28-a4f4a5a890bd",
   "metadata": {},
   "outputs": [
    {
     "name": "stdout",
     "output_type": "stream",
     "text": [
      "['hydrogen', 'lithium', 'boron']\n",
      "['hydrogen', 'beryllium']\n",
      "['hydrogen', 'carbon']\n",
      "[]\n",
      "[]\n",
      "['carbon', 'beryllium', 'helium']\n",
      "['hydrogen', 'helium', 'lithium', 'beryllium', 'boron']\n",
      "['carbon', 'boron', 'beryllium', 'lithium', 'helium', 'hydrogen']\n"
     ]
    }
   ],
   "source": [
    "# Work out your answer here\n",
    "elements = [\"hydrogen\", \"helium\", \"lithium\", \n",
    "            \"beryllium\", \"boron\", \"carbon\"]\n",
    "\n",
    "print(elements[0:6:2])\n",
    "print(elements[0:6:3])\n",
    "print(elements[0:6:5])\n",
    "print(elements[0:6:-1])\n",
    "print(elements[5:6:-1])\n",
    "print(elements[6:0:-2])\n",
    "\n",
    "#i'm just using the following to test for problem 7\n",
    "print(elements[:-1])\n",
    "print(elements[::-1])"
   ]
  },
  {
   "cell_type": "markdown",
   "id": "1937719a-0515-44f0-ae2c-3ce905adf3ba",
   "metadata": {},
   "source": [
    "**Explain what happens here**\n",
    "The third index functions to take 'every other' (if 2) or 'every third' (if 3) etc. Negative indices return null set, maybe because we start counting from first element so can't go backwards. If I set the list from 6 to 0 (backwards) it can count the negative indices backwards.\n"
   ]
  },
  {
   "cell_type": "markdown",
   "id": "113f4a32-be5a-439a-baab-0ac5a5816b14",
   "metadata": {},
   "source": [
    "## Problem 4, `range()`:\n",
    "\n",
    "Python has a built-in function called `range` that creates a sequence of numbers. `range` can accept 1, 2, or 3 parameters.\n",
    "\n",
    "* If one parameter is given, range creates an array of that length, starting at zero and incrementing by 1. For example, `range(3)` produces the numbers `0, 1, 2`.\n",
    "\n",
    "* If two parameters are given, range starts at the first and ends just before the second, incrementing by one. For example, `range(2, 5)` produces `2, 3, 4`.\n",
    "\n",
    "* If range is given 3 parameters, it starts at the first one, ends just before the second one, and increments by the third one. For exmaple `range(3, 10, 2)` produces `3, 5, 7, 9`.\n",
    "\n",
    "Using range, write a loop that uses range to print the first 3 natural numbers (1, 2 and 3) on three lines:"
   ]
  },
  {
   "cell_type": "code",
   "execution_count": 73,
   "id": "0d20b1cc-0d73-40f7-90f5-e5bb7ebbf008",
   "metadata": {},
   "outputs": [
    {
     "name": "stdout",
     "output_type": "stream",
     "text": [
      "test: 0\n",
      "test: 1\n",
      "test: 2\n",
      "answer: 1\n",
      "answer: 2\n",
      "answer: 3\n"
     ]
    }
   ],
   "source": [
    "# Put your answer here \n",
    "# x is just to test \n",
    "\n",
    "for x in range(3):\n",
    "    print ('test:',x)\n",
    "\n",
    "for y in range(1,4):\n",
    "    print ('answer:',y)"
   ]
  },
  {
   "cell_type": "markdown",
   "id": "377b2fcf-9b6f-4fd3-b57d-f2a2a778e4e2",
   "metadata": {},
   "source": [
    "## Problem 5, computing powers with loops:\n",
    "\n",
    "Exponentiation is built into Python, for example:\n",
    "```\n",
    "print(5 ** 3)\n",
    "```\n",
    "prints:\n",
    "```\n",
    "125\n",
    "```\n",
    "\n",
    "However, it is also possible to do the same calculation with a `for` loop using `range` . Write a loop that calculates\n",
    "the same result as 5 ** 3 using multiplication (and without exponentiation)."
   ]
  },
  {
   "cell_type": "code",
   "execution_count": 75,
   "id": "0ecf062d-eb9d-428e-901b-7dccb599d5c0",
   "metadata": {},
   "outputs": [
    {
     "name": "stdout",
     "output_type": "stream",
     "text": [
      "125\n"
     ]
    }
   ],
   "source": [
    "#I am trying to get something like result=1*5,=5 then result=5*5=25, then result=25*5=125 etc\n",
    "value = 5\n",
    "result = 1\n",
    "\n",
    "for i in range(3) :\n",
    "    result=result*value\n",
    "    \n",
    "print(result) \n"
   ]
  },
  {
   "cell_type": "markdown",
   "id": "d6ca8e43-8abf-42b7-a24c-856fdd7ee98d",
   "metadata": {},
   "source": [
    "## Problem 6, sums and products\n",
    "\n",
    "If $x$ is a list of $n$ numbers, e.g. `x = [1, 2, 3, 4]` we can write the sum as:\n",
    "\n",
    "$$\\sum_{i=1}^n x_i = x_1 + x_2 ...  + x_n = 10$$\n",
    "\n",
    "(Watch out! In mathamatics we tend to start counting at 1, Python lists start from index 0.)\n",
    "We can also write the product:\n",
    "\n",
    "$$\\prod_{i=1}^n x_i = x_1 \\times x_2 ... \\times x_n = 252$$\n",
    "\n",
    "Both of these expressions can be calculated in a loop (this is sometimes called a reduction operation).\n",
    "Compleate the following two cells to show how this can be done, and explain your choice of the starting value for\n",
    "the `reduction_variable`:"
   ]
  },
  {
   "cell_type": "code",
   "execution_count": 76,
   "id": "87e84b48-7c3c-442c-963d-f685eb42f208",
   "metadata": {},
   "outputs": [
    {
     "name": "stdout",
     "output_type": "stream",
     "text": [
      "The sum of x is 10\n"
     ]
    }
   ],
   "source": [
    "# First equation (the sum)\n",
    "\n",
    "x = [1, 2, 3, 4]\n",
    "reduction_variable = 0\n",
    "\n",
    "for n in x:\n",
    "    reduction_variable=reduction_variable+n\n",
    "\n",
    "\n",
    "print(\"The sum of x is\", reduction_variable)\n"
   ]
  },
  {
   "cell_type": "code",
   "execution_count": 77,
   "id": "8ae2f626-f98f-41e6-9cae-359a2dd12bfc",
   "metadata": {},
   "outputs": [
    {
     "name": "stdout",
     "output_type": "stream",
     "text": [
      "The product of x is 24\n"
     ]
    }
   ],
   "source": [
    "# Second equation (the product)\n",
    "\n",
    "x = [1, 2, 3, 4]\n",
    "reduction_variable = 1\n",
    "\n",
    "for n in x:\n",
    "    reduction_variable=reduction_variable*n\n",
    "\n",
    "\n",
    "print(\"The product of x is\", reduction_variable)\n"
   ]
  },
  {
   "cell_type": "markdown",
   "id": "f1f8d33c-c50b-4763-b5d6-136a864ad10a",
   "metadata": {},
   "source": [
    "Why did you choose different values for the `reduction_variable`? **Write your answer here.**\n",
    "\n",
    "For sum, I started with 0 because to start with, adding 0 to n is n so we're starting with n. For product, I started with 1 because 1*n=n and if I started with 0 everything would just be multiplied by 0 and the result would be 0."
   ]
  },
  {
   "cell_type": "markdown",
   "id": "18a80654-407e-4fc9-98cc-9c42ee8667ef",
   "metadata": {},
   "source": [
    "## Problem 7, reverse a string:\n",
    "\n",
    "Two strings can be concatenated using the `+` operator. With this knowledge, write a loop that takes a string and produces a new string with the characters in reverse order, so '`Newton'` becomes `'notweN'`."
   ]
  },
  {
   "cell_type": "code",
   "execution_count": 86,
   "id": "8e526524-a275-4c7c-9c3b-64f30fefb4a4",
   "metadata": {},
   "outputs": [
    {
     "name": "stdout",
     "output_type": "stream",
     "text": [
      "notweN\n"
     ]
    }
   ],
   "source": [
    "# Put your answer here\n",
    "\n",
    "name='Newton'\n",
    "new_name='' # We need to start with an empty string.\n",
    "\n",
    "for characters in name[::-1]:\n",
    "    new_name=new_name+characters #I tried new_name=characters and it only printed n, so I did this, now it's ''+'n', 'n'+ 'o', 'no'+'t' etc :D\n",
    "\n",
    "print(new_name)"
   ]
  },
  {
   "cell_type": "markdown",
   "id": "a7dc9a64-d76c-4522-a1e9-91b3b5626001",
   "metadata": {},
   "source": [
    "## Problem 8, computing the value of a polynomial:\n",
    "\n",
    "The built-in function `enumerate()` takes a sequence (e.g. a list) and generates a new sequence of \n",
    "the same length. Each element of the new sequence is a pair composed of the index (0, 1, 2,…) and \n",
    "the value from the original sequence:\n",
    "```\n",
    "xs = [7, 5, 2, 'bob']\n",
    "for i, x in enumerate(xs):\n",
    "    # Do something using i and x\n",
    "    print(\"element of index\", i, \"contains the value\", x)\n",
    "```\n",
    "The code above loops through xs, assigning the index to i and the value to x.\n",
    "\n",
    "Suppose you have encoded a polynomial as a list of coefficients in the following way: the first element is the constant term, the second element is the coefficient of the linear term, the third is the coefficient of the quadratic term, etc.\n",
    "```\n",
    "x = 5\n",
    "cc = [2, 4, 3]\n",
    "```\n",
    "so that\n",
    "```\n",
    "y = cc[0] * x**0 + cc[1] * x**1 + cc[2] * x**2\n",
    "y = 97\n",
    "```\n",
    "Write a loop using `enumerate(cc)` which computes the value y of any polynomial, given `x` and `cc`."
   ]
  },
  {
   "cell_type": "code",
   "execution_count": 96,
   "id": "cffc0df6-c95f-4069-9f3e-c26f9b927d59",
   "metadata": {},
   "outputs": [
    {
     "name": "stdout",
     "output_type": "stream",
     "text": [
      "97\n"
     ]
    }
   ],
   "source": [
    "x = 5\n",
    "cc = [2, 4, 3]\n",
    "y=0 \n",
    "#At first, I didn't set y=0 as my initial condition, like in Problem 6, and without y=0 the answer got bigger everytime I ran the code. Why?\n",
    "power=i\n",
    "coefficient=cc\n",
    "\n",
    "for i, coefficient in enumerate(cc):\n",
    "    y=y+coefficient *(x**i)\n",
    "\n",
    "print(y)"
   ]
  },
  {
   "cell_type": "markdown",
   "id": "5f324605-977b-4404-8156-7fe03122edf9",
   "metadata": {},
   "source": [
    "## Problem 9:\n",
    "\n",
    "Use a for-loop to convert the string `\"hello\"` into the list of letters `[\"h\", \"e\", \"l\", \"l\", \"o\"]`.\n",
    "\n",
    "*Hint* you can start by creating an empty list: `my_list = []`"
   ]
  },
  {
   "cell_type": "code",
   "execution_count": 111,
   "id": "188f5912-4522-4e27-a744-17a3797be2d9",
   "metadata": {
    "scrolled": true
   },
   "outputs": [
    {
     "name": "stdout",
     "output_type": "stream",
     "text": [
      "['H', 'e', 'l', 'l', 'o']\n",
      "['H', 'e', 'l', 'l', 'o']\n",
      "['H', 'e', 'l', 'l', 'o']\n",
      "['H', 'e', 'l', 'l', 'o']\n",
      "['H', 'e', 'l', 'l', 'o']\n"
     ]
    }
   ],
   "source": [
    "# Put your answer here\n",
    "\n",
    "let_list = [] \n",
    "word = 'Hello'\n",
    "\n",
    "for characters in word:\n",
    "    let_list=[characters for characters in word]\n",
    "    print(let_list)\n",
    "#why has it printed 5 times?"
   ]
  },
  {
   "cell_type": "markdown",
   "id": "adae0341-ceee-413d-9ff2-efbc6dfa2b2d",
   "metadata": {},
   "source": [
    "## Problem 10:\n",
    "\n",
    "`+` usually means addition, but when used on strings or lists, it means \"concatenate\". Given that, what do you think the multiplication operator `*` does on lists? In particular, what will be the output of the following code?\n",
    "```\n",
    "counts = [2, 4, 6, 8, 10]\n",
    "repeats = counts * 2\n",
    "print(repeats)\n",
    "```\n",
    "1. `[2, 4, 6, 8, 10, 2, 4, 6, 8, 10]`,\n",
    "2. `[4, 8, 12, 16, 20]`, \n",
    "3. `[[2, 4, 6, 8, 10],[2, 4, 6, 8, 10]]`,\n",
    "4. `[2, 4, 6, 8, 10, 4, 8, 12, 16, 20]`.\n",
    "\n",
    "Try it out in the cell below, then explain what is happening in your own words.\n",
    "\n",
    "(The technical term for this is *operator overloading*: a single operator, like `+` or `*`, can do different things depending on what it is applied to.)"
   ]
  },
  {
   "cell_type": "code",
   "execution_count": 121,
   "id": "b405322d-e65d-4193-8ea1-7dc35567a7cd",
   "metadata": {},
   "outputs": [
    {
     "name": "stdout",
     "output_type": "stream",
     "text": [
      "[2, 4, 6, 8, 10, 2, 4, 6, 8, 10]\n",
      "['a', 'b', 'c', 'd', 'a', 'b', 'c', 'd', 'a', 'b', 'c', 'd']\n"
     ]
    }
   ],
   "source": [
    "# Work out the solution here\n",
    "\n",
    "counts = [2, 4, 6, 8, 10]\n",
    "repeats = counts * 2\n",
    "\n",
    "print(repeats)\n",
    "\n",
    "\n",
    "list = ['a','b','c','d']\n",
    "new_list = list * 3\n",
    "\n",
    "print(new_list)"
   ]
  },
  {
   "cell_type": "markdown",
   "id": "f86ce11e-e3d8-4c93-999e-16f6ae18ce8f",
   "metadata": {},
   "source": [
    "**Explain what happens here:**\n",
    "The * has caused the list to repeat by a certain  number of times (depending on the thing it was multiplied by).\n",
    "I tried multiplying by 1.5 but it says it can't accept non-integer multiplication factors (TypeError).\n",
    "So, this format can be used to repeat a (whole) list a certain amount of times.\n"
   ]
  },
  {
   "cell_type": "markdown",
   "id": "a3225ff9-86c3-428f-9a95-0f62df2e909f",
   "metadata": {},
   "source": [
    "## Problem 11, different means:\n",
    "\n",
    "There are several different types of \"mean\" value of a list of numbers, $x$. The most common is the \n",
    "arithmetic mean, $A$, expressed as:\n",
    "\n",
    "$$A = \\frac{1}{n}\\sum_{i=1}^n x_i.$$\n",
    "\n",
    "We can also define the geometric mean, $G$, where the items in the list are multplied together and the $n$-th root taken:\n",
    "\n",
    "$$G = \\left(\\prod_{i=1}^n x_i \\right)^{\\frac{1}{n}},$$\n",
    "\n",
    "and the harmonic mean, $H$, which is the reciprocal of the arithmetic mean of the reciprocals of the list:\n",
    "\n",
    "$$H = \\frac{n}{ \\sum_{i=1}^n \\frac{1}{x_i}}.$$\n",
    "\n",
    "Write three loops below to compute $A$, $G$ and $H$ for the list `x = [1, 3, 5, 7, 9, 11, 13]`"
   ]
  },
  {
   "cell_type": "code",
   "execution_count": 156,
   "id": "534d85b4-5efd-4862-84dd-5c9040004e80",
   "metadata": {},
   "outputs": [
    {
     "name": "stdout",
     "output_type": "stream",
     "text": [
      "A is 7.0\n",
      "G is 5.407130298648436\n",
      "H is 3.5803177054355113\n"
     ]
    }
   ],
   "source": [
    "# Put your answer here\n",
    "x = [1, 3, 5, 7, 9, 11, 13]\n",
    "n=len(x)\n",
    "\n",
    "#Arithmetic \n",
    "#b=element of x\n",
    "sum_of_x = 0\n",
    "\n",
    "for b in x:\n",
    "    sum_of_x=sum_of_x+b\n",
    "A=sum_of_x/n\n",
    "\n",
    "print('A is', str(A))\n",
    "\n",
    "\n",
    "#Geometric : items in the list are multplied together and the nth root taken\n",
    "#b=element of x\n",
    "product_of_x = 1\n",
    "\n",
    "for b in x:\n",
    "    product_of_x=product_of_x*b\n",
    "G=product_of_x**(1/n)\n",
    "\n",
    "print('G is', str(G))\n",
    "\n",
    "\n",
    "#Harmonic : reciprocal of the arithmetic mean of the reciprocals of the list\n",
    "#b=element of x\n",
    "sum_of_reciprocal_x = 0\n",
    "\n",
    "for b in x:\n",
    "    sum_of_reciprocal_x=sum_of_reciprocal_x+(1/b)\n",
    "H=n/sum_of_reciprocal_x\n",
    "\n",
    "print('H is', str(H))"
   ]
  },
  {
   "cell_type": "markdown",
   "id": "a46a3000-5418-45a3-9c05-e02da8c67687",
   "metadata": {},
   "source": [
    "## Problem 12:\n",
    "\n",
    "Dartmoor and Bodmin Moor in Devon and Cornwall (the South West tip of Great Britain) form part of a large granite intrusion. Thinking back to what you know about gravity and what we discussed in class, what would you expect a gravity survey to show in Devon and Cornwall. **In about 50 words, write down your answer in the cell below. Use Markdown to do this and make use of formatting as needed.**"
   ]
  },
  {
   "cell_type": "markdown",
   "id": "42027551-7821-4756-b2bf-7e11ef570dae",
   "metadata": {},
   "source": [
    "**Write your answer here**\n",
    "\n",
    "Granite is less dense that average crust, so negative gravitational anomalies (Bouguer anomalies) would be observed. "
   ]
  },
  {
   "cell_type": "markdown",
   "id": "9d3be23b-52d1-409f-b992-ba7b68de2e00",
   "metadata": {},
   "source": [
    "## Problem 13:\n",
    "\n",
    "**Try to make a map of the BGS gravity data in and around Devon and Cornwall using Python.** You can reuse some of the code we wrote in class to do this. Note any problems you found so we can discuss them with your tutor. It may be useful to know that you can open multiple Jupyter notebooks at the same time (in different tabs in your web browser)."
   ]
  },
  {
   "cell_type": "code",
   "execution_count": null,
   "id": "cb35d8df-6fc2-4cc9-82b3-c06d6f30cb6b",
   "metadata": {},
   "outputs": [],
   "source": [
    "# Write your answer here\n",
    "#Sorry, I've been trying to look for devon and cornwall in the landgrav.csv file but can't find it, so I just googled the coordinates \n",
    "#Also I have no plot points and a weird line on my graph"
   ]
  },
  {
   "cell_type": "code",
   "execution_count": 133,
   "id": "8d38f0c6-4124-4324-a11a-8ecbf2230b5e",
   "metadata": {},
   "outputs": [
    {
     "name": "stdout",
     "output_type": "stream",
     "text": [
      "landgrav.csv  map.png  README_landgrav.pdf  README.md\n"
     ]
    }
   ],
   "source": [
    "! ls ../data/grav"
   ]
  },
  {
   "cell_type": "code",
   "execution_count": 134,
   "id": "6f3a1137-56cd-4105-86a0-6023eceef345",
   "metadata": {},
   "outputs": [
    {
     "name": "stdout",
     "output_type": "stream",
     "text": [
      "SURVEY_AREA,STATION_ID,STATION_CODE,LATITUDE,LONGITUDE,GRID_EAST,GRID_NORTH,STATION_ELEV,ELEVATION_UNIT,BOUGUER_DENS,BASE_CODE,OBSERVED_GRAV,FREE_AIR_AN,ITOT_TC,ITOT_TCZ,TOT_TC,TOT_TCZ,BOUGUER_AN,SOURCE_CODE,READING_DATE,GRS,NTC\n",
      "YORK/SELBY,SE_53C11,,53.771000,-1.187000,453580,430840,7.90,,2.70,-16,1392.67,-5.97,0.00,Q,0.00,A,-6.86,,,,0.00\n",
      "YORK/SELBY,SE_52D15,,53.707500,-1.158170,455560,423800,14.00,,2.70,-16,1383.83,-7.44,0.00,Q,0.00,A,-9.02,,,,0.00\n",
      "YORK/SELBY,SE_52B01,,53.760502,-1.117170,458200,429730,20.00,,2.70,-16,1388.61,-5.39,0.00,Q,0.00,A,-7.65,,,,0.00\n",
      "YORK/SELBY,SE_64D01,,53.895828,-1.006170,465300,444880,14.00,,2.70,-16,1398.08,-9.46,0.00,Q,0.00,A,-11.04,,,,0.00\n",
      "YORK/SELBY,SE_66B10,,54.082668,-0.967830,467520,465700,73.00,,2.70,-16,1397.73,-7.71,0.00,Q,0.00,A,-15.97,,,,0.00\n",
      "YORK/SELBY,SE_64C02,,53.867828,-1.081330,460400,441700,26.00,,2.70,-16,1395.31,-6.11,0.00,Q,0.00,A,-9.05,,,,0.00\n",
      "YORK/SELBY,SE_64D02,,53.882671,-1.000170,465720,443420,17.00,,2.70,-16,1396.41,-9.07,0.00,Q,0.00,A,-10.99,,,,0.00\n",
      "YORK/SELBY,SE_55B06,,54.031670,-1.113830,458040,459900,17.00,,2.70,-16,1408.74,-9.59,0.00,Q,0.00,A,-11.51,,,,0.00\n",
      "YORK/SELBY,SE_52B11,,53.719170,-1.130670,457360,425120,7.00,,2.70,-16,1386.96,-7.48,0.00,Q,0.00,A,-8.27,,,,0.00\n"
     ]
    }
   ],
   "source": [
    "!head ../data/grav/landgrav.csv"
   ]
  },
  {
   "cell_type": "code",
   "execution_count": 146,
   "id": "88effe6e-3eaf-422f-9648-50276a1793ba",
   "metadata": {},
   "outputs": [],
   "source": [
    "grid_east = []\n",
    "grid_north = []\n",
    "bouguer_anomaly = []\n",
    "\n",
    "data_file = open('../data/grav/landgrav.csv')\n",
    "\n",
    "for line in data_file:\n",
    "    words = line.split(',')\n",
    "    if words[0] == 'SURVEY_AREA' :\n",
    "        continue\n",
    "    else :\n",
    "        grid_east.append(float(words[5]))\n",
    "        grid_north.append(float(words[6]))\n",
    "        bouguer_anomaly.append(float(words[17]))\n",
    "\n",
    "data_file.close()"
   ]
  },
  {
   "cell_type": "code",
   "execution_count": 153,
   "id": "1b097698-7532-464b-86f4-f79b0661f3f3",
   "metadata": {},
   "outputs": [],
   "source": [
    "grid_east_in_area = []\n",
    "grid_north_in_area = []\n",
    "bouguer_anomaly_in_area = []\n",
    "\n",
    "south_boundary = 62000\n",
    "north_boundary = 70000\n",
    "west_boundary = 200000\n",
    "east_boundary = 280000\n",
    "\n",
    "for east, north, bouger in zip(grid_east, grid_north, bouguer_anomaly) : \n",
    "    if (east > west_boundary) and (east < east_boundary) and (north > south_boundary) and (north_boundary > north):\n",
    "        grid_east_in_area.append(east)\n",
    "        grid_north_in_area.append(north)\n",
    "        bouguer_anomaly_in_area.append(bouguer_anomaly)"
   ]
  },
  {
   "cell_type": "code",
   "execution_count": null,
   "id": "57367849-ace0-4b73-96bc-0ed5e9660a61",
   "metadata": {},
   "outputs": [],
   "source": [
    "import numpy as np\n",
    "import matplotlib.pyplot as plt\n",
    "import cartopy.crs as ccrs\n",
    "import cartopy.feature as cfeature\n",
    "%matplotlib inline\n",
    "\n",
    "# This is a reusable function to make the plot.\n",
    "\n",
    "def plot_points_on_osgb_map(data_east, data_north, data_values, east_boundary, \n",
    "                            west_boundary, south_boundary, north_boundary):\n",
    "    \n",
    "    fig, ax = plt.subplots(subplot_kw=dict(projection=ccrs.PlateCarree()), figsize=(15,15))\n",
    "\n",
    "    corners = ccrs.PlateCarree().transform_points(ccrs.OSGB(), np.array([west_boundary, east_boundary]),\n",
    "                                                               np.array([south_boundary, north_boundary]))\n",
    "\n",
    "    # Lower left x, lower left y, upper right x, upper right y \n",
    "    ax.set_extent((corners[0,0], corners[1,0], corners[0,1], corners[1,1]))\n",
    "\n",
    "    ax.add_feature(cfeature.LAND)\n",
    "    ax.add_feature(cfeature.COASTLINE)\n",
    "    ax.add_feature(cfeature.LAKES)\n",
    "    ax.add_feature(cfeature.RIVERS)\n",
    "\n",
    "    colors = ax.scatter(data_east, data_north, c=data_values, transform=ccrs.OSGB())\n",
    "\n",
    "    cbar = fig.colorbar(colors, orientation='vertical', fraction=0.02)\n",
    "    cbar.ax.set_ylabel('Bouguer gravity anomaly (mGal)')\n",
    "\n",
    "    gl = ax.gridlines(draw_labels=True)\n",
    "    gl.xlabels_top = False\n",
    "    gl.ylabels_right = False\n",
    "\n",
    "    ax.set_title(\"Gravity low in Devon and Cornwall\")\n",
    "\n",
    "    plt.show()"
   ]
  },
  {
   "cell_type": "code",
   "execution_count": 160,
   "id": "7d5f81e1-eb6d-4ed0-9f7e-ad47fc63922d",
   "metadata": {},
   "outputs": [
    {
     "ename": "ValueError",
     "evalue": "'c' argument has 54400950 elements, which is inconsistent with 'x' and 'y' with size 354.",
     "output_type": "error",
     "traceback": [
      "\u001b[0;31m---------------------------------------------------------------------------\u001b[0m",
      "\u001b[0;31mValueError\u001b[0m                                Traceback (most recent call last)",
      "File \u001b[0;32m/opt/tljh/user/lib/python3.10/site-packages/matplotlib/axes/_axes.py:4483\u001b[0m, in \u001b[0;36mAxes._parse_scatter_color_args\u001b[0;34m(c, edgecolors, kwargs, xsize, get_next_color_func)\u001b[0m\n\u001b[1;32m   4482\u001b[0m \u001b[38;5;28;01mtry\u001b[39;00m:  \u001b[38;5;66;03m# Is 'c' acceptable as PathCollection facecolors?\u001b[39;00m\n\u001b[0;32m-> 4483\u001b[0m     colors \u001b[38;5;241m=\u001b[39m \u001b[43mmcolors\u001b[49m\u001b[38;5;241;43m.\u001b[39;49m\u001b[43mto_rgba_array\u001b[49m\u001b[43m(\u001b[49m\u001b[43mc\u001b[49m\u001b[43m)\u001b[49m\n\u001b[1;32m   4484\u001b[0m \u001b[38;5;28;01mexcept\u001b[39;00m (\u001b[38;5;167;01mTypeError\u001b[39;00m, \u001b[38;5;167;01mValueError\u001b[39;00m) \u001b[38;5;28;01mas\u001b[39;00m err:\n",
      "File \u001b[0;32m/opt/tljh/user/lib/python3.10/site-packages/matplotlib/colors.py:505\u001b[0m, in \u001b[0;36mto_rgba_array\u001b[0;34m(c, alpha)\u001b[0m\n\u001b[1;32m    504\u001b[0m \u001b[38;5;28;01melse\u001b[39;00m:\n\u001b[0;32m--> 505\u001b[0m     rgba \u001b[38;5;241m=\u001b[39m np\u001b[38;5;241m.\u001b[39marray([to_rgba(cc) \u001b[38;5;28;01mfor\u001b[39;00m cc \u001b[38;5;129;01min\u001b[39;00m c])\n\u001b[1;32m    507\u001b[0m \u001b[38;5;28;01mif\u001b[39;00m alpha \u001b[38;5;129;01mis\u001b[39;00m \u001b[38;5;129;01mnot\u001b[39;00m \u001b[38;5;28;01mNone\u001b[39;00m:\n",
      "File \u001b[0;32m/opt/tljh/user/lib/python3.10/site-packages/matplotlib/colors.py:505\u001b[0m, in \u001b[0;36m<listcomp>\u001b[0;34m(.0)\u001b[0m\n\u001b[1;32m    504\u001b[0m \u001b[38;5;28;01melse\u001b[39;00m:\n\u001b[0;32m--> 505\u001b[0m     rgba \u001b[38;5;241m=\u001b[39m np\u001b[38;5;241m.\u001b[39marray([\u001b[43mto_rgba\u001b[49m\u001b[43m(\u001b[49m\u001b[43mcc\u001b[49m\u001b[43m)\u001b[49m \u001b[38;5;28;01mfor\u001b[39;00m cc \u001b[38;5;129;01min\u001b[39;00m c])\n\u001b[1;32m    507\u001b[0m \u001b[38;5;28;01mif\u001b[39;00m alpha \u001b[38;5;129;01mis\u001b[39;00m \u001b[38;5;129;01mnot\u001b[39;00m \u001b[38;5;28;01mNone\u001b[39;00m:\n",
      "File \u001b[0;32m/opt/tljh/user/lib/python3.10/site-packages/matplotlib/colors.py:302\u001b[0m, in \u001b[0;36mto_rgba\u001b[0;34m(c, alpha)\u001b[0m\n\u001b[1;32m    301\u001b[0m \u001b[38;5;28;01mif\u001b[39;00m rgba \u001b[38;5;129;01mis\u001b[39;00m \u001b[38;5;28;01mNone\u001b[39;00m:  \u001b[38;5;66;03m# Suppress exception chaining of cache lookup failure.\u001b[39;00m\n\u001b[0;32m--> 302\u001b[0m     rgba \u001b[38;5;241m=\u001b[39m \u001b[43m_to_rgba_no_colorcycle\u001b[49m\u001b[43m(\u001b[49m\u001b[43mc\u001b[49m\u001b[43m,\u001b[49m\u001b[43m \u001b[49m\u001b[43malpha\u001b[49m\u001b[43m)\u001b[49m\n\u001b[1;32m    303\u001b[0m     \u001b[38;5;28;01mtry\u001b[39;00m:\n",
      "File \u001b[0;32m/opt/tljh/user/lib/python3.10/site-packages/matplotlib/colors.py:393\u001b[0m, in \u001b[0;36m_to_rgba_no_colorcycle\u001b[0;34m(c, alpha)\u001b[0m\n\u001b[1;32m    392\u001b[0m \u001b[38;5;28;01mif\u001b[39;00m \u001b[38;5;28mlen\u001b[39m(c) \u001b[38;5;129;01mnot\u001b[39;00m \u001b[38;5;129;01min\u001b[39;00m [\u001b[38;5;241m3\u001b[39m, \u001b[38;5;241m4\u001b[39m]:\n\u001b[0;32m--> 393\u001b[0m     \u001b[38;5;28;01mraise\u001b[39;00m \u001b[38;5;167;01mValueError\u001b[39;00m(\u001b[38;5;124m\"\u001b[39m\u001b[38;5;124mRGBA sequence should have length 3 or 4\u001b[39m\u001b[38;5;124m\"\u001b[39m)\n\u001b[1;32m    394\u001b[0m \u001b[38;5;28;01mif\u001b[39;00m \u001b[38;5;129;01mnot\u001b[39;00m \u001b[38;5;28mall\u001b[39m(\u001b[38;5;28misinstance\u001b[39m(x, Real) \u001b[38;5;28;01mfor\u001b[39;00m x \u001b[38;5;129;01min\u001b[39;00m c):\n\u001b[1;32m    395\u001b[0m     \u001b[38;5;66;03m# Checks that don't work: `map(float, ...)`, `np.array(..., float)` and\u001b[39;00m\n\u001b[1;32m    396\u001b[0m     \u001b[38;5;66;03m# `np.array(...).astype(float)` would all convert \"0.5\" to 0.5.\u001b[39;00m\n",
      "\u001b[0;31mValueError\u001b[0m: RGBA sequence should have length 3 or 4",
      "\nThe above exception was the direct cause of the following exception:\n",
      "\u001b[0;31mValueError\u001b[0m                                Traceback (most recent call last)",
      "Cell \u001b[0;32mIn[160], line 1\u001b[0m\n\u001b[0;32m----> 1\u001b[0m \u001b[43mplot_points_on_osgb_map\u001b[49m\u001b[43m(\u001b[49m\u001b[43mgrid_east_in_area\u001b[49m\u001b[43m,\u001b[49m\u001b[43m \u001b[49m\u001b[43mgrid_north_in_area\u001b[49m\u001b[43m,\u001b[49m\u001b[43m \u001b[49m\u001b[43mbouguer_anomaly_in_area\u001b[49m\u001b[43m,\u001b[49m\u001b[43m \u001b[49m\n\u001b[1;32m      2\u001b[0m \u001b[43m                       \u001b[49m\u001b[43meast_boundary\u001b[49m\u001b[43m,\u001b[49m\u001b[43m \u001b[49m\u001b[43mwest_boundary\u001b[49m\u001b[43m,\u001b[49m\u001b[43m \u001b[49m\u001b[43msouth_boundary\u001b[49m\u001b[43m,\u001b[49m\u001b[43m \u001b[49m\u001b[43mnorth_boundary\u001b[49m\u001b[43m)\u001b[49m \n",
      "Cell \u001b[0;32mIn[159], line 25\u001b[0m, in \u001b[0;36mplot_points_on_osgb_map\u001b[0;34m(data_east, data_north, data_values, east_boundary, west_boundary, south_boundary, north_boundary)\u001b[0m\n\u001b[1;32m     22\u001b[0m ax\u001b[38;5;241m.\u001b[39madd_feature(cfeature\u001b[38;5;241m.\u001b[39mLAKES)\n\u001b[1;32m     23\u001b[0m ax\u001b[38;5;241m.\u001b[39madd_feature(cfeature\u001b[38;5;241m.\u001b[39mRIVERS)\n\u001b[0;32m---> 25\u001b[0m colors \u001b[38;5;241m=\u001b[39m \u001b[43max\u001b[49m\u001b[38;5;241;43m.\u001b[39;49m\u001b[43mscatter\u001b[49m\u001b[43m(\u001b[49m\u001b[43mdata_east\u001b[49m\u001b[43m,\u001b[49m\u001b[43m \u001b[49m\u001b[43mdata_north\u001b[49m\u001b[43m,\u001b[49m\u001b[43m \u001b[49m\u001b[43mc\u001b[49m\u001b[38;5;241;43m=\u001b[39;49m\u001b[43mdata_values\u001b[49m\u001b[43m,\u001b[49m\u001b[43m \u001b[49m\u001b[43mtransform\u001b[49m\u001b[38;5;241;43m=\u001b[39;49m\u001b[43mccrs\u001b[49m\u001b[38;5;241;43m.\u001b[39;49m\u001b[43mOSGB\u001b[49m\u001b[43m(\u001b[49m\u001b[43m)\u001b[49m\u001b[43m)\u001b[49m\n\u001b[1;32m     27\u001b[0m cbar \u001b[38;5;241m=\u001b[39m fig\u001b[38;5;241m.\u001b[39mcolorbar(colors, orientation\u001b[38;5;241m=\u001b[39m\u001b[38;5;124m'\u001b[39m\u001b[38;5;124mvertical\u001b[39m\u001b[38;5;124m'\u001b[39m, fraction\u001b[38;5;241m=\u001b[39m\u001b[38;5;241m0.02\u001b[39m)\n\u001b[1;32m     28\u001b[0m cbar\u001b[38;5;241m.\u001b[39max\u001b[38;5;241m.\u001b[39mset_ylabel(\u001b[38;5;124m'\u001b[39m\u001b[38;5;124mBouguer gravity anomaly (mGal)\u001b[39m\u001b[38;5;124m'\u001b[39m)\n",
      "File \u001b[0;32m/opt/tljh/user/lib/python3.10/site-packages/cartopy/mpl/geoaxes.py:315\u001b[0m, in \u001b[0;36m_add_transform.<locals>.wrapper\u001b[0;34m(self, *args, **kwargs)\u001b[0m\n\u001b[1;32m    310\u001b[0m     \u001b[38;5;28;01mraise\u001b[39;00m \u001b[38;5;167;01mValueError\u001b[39;00m(\u001b[38;5;124mf\u001b[39m\u001b[38;5;124m'\u001b[39m\u001b[38;5;124mInvalid transform: Spherical \u001b[39m\u001b[38;5;132;01m{\u001b[39;00mfunc\u001b[38;5;241m.\u001b[39m\u001b[38;5;18m__name__\u001b[39m\u001b[38;5;132;01m}\u001b[39;00m\u001b[38;5;124m \u001b[39m\u001b[38;5;124m'\u001b[39m\n\u001b[1;32m    311\u001b[0m                      \u001b[38;5;124m'\u001b[39m\u001b[38;5;124mis not supported - consider using \u001b[39m\u001b[38;5;124m'\u001b[39m\n\u001b[1;32m    312\u001b[0m                      \u001b[38;5;124m'\u001b[39m\u001b[38;5;124mPlateCarree/RotatedPole.\u001b[39m\u001b[38;5;124m'\u001b[39m)\n\u001b[1;32m    314\u001b[0m kwargs[\u001b[38;5;124m'\u001b[39m\u001b[38;5;124mtransform\u001b[39m\u001b[38;5;124m'\u001b[39m] \u001b[38;5;241m=\u001b[39m transform\n\u001b[0;32m--> 315\u001b[0m \u001b[38;5;28;01mreturn\u001b[39;00m \u001b[43mfunc\u001b[49m\u001b[43m(\u001b[49m\u001b[38;5;28;43mself\u001b[39;49m\u001b[43m,\u001b[49m\u001b[43m \u001b[49m\u001b[38;5;241;43m*\u001b[39;49m\u001b[43margs\u001b[49m\u001b[43m,\u001b[49m\u001b[43m \u001b[49m\u001b[38;5;241;43m*\u001b[39;49m\u001b[38;5;241;43m*\u001b[39;49m\u001b[43mkwargs\u001b[49m\u001b[43m)\u001b[49m\n",
      "File \u001b[0;32m/opt/tljh/user/lib/python3.10/site-packages/cartopy/mpl/geoaxes.py:1696\u001b[0m, in \u001b[0;36mGeoAxes.scatter\u001b[0;34m(self, *args, **kwargs)\u001b[0m\n\u001b[1;32m   1688\u001b[0m \u001b[38;5;28;01mif\u001b[39;00m (\u001b[38;5;28misinstance\u001b[39m(kwargs[\u001b[38;5;124m'\u001b[39m\u001b[38;5;124mtransform\u001b[39m\u001b[38;5;124m'\u001b[39m],\n\u001b[1;32m   1689\u001b[0m                InterProjectionTransform) \u001b[38;5;129;01mand\u001b[39;00m\n\u001b[1;32m   1690\u001b[0m         kwargs[\u001b[38;5;124m'\u001b[39m\u001b[38;5;124mtransform\u001b[39m\u001b[38;5;124m'\u001b[39m]\u001b[38;5;241m.\u001b[39msource_projection\u001b[38;5;241m.\u001b[39mis_geodetic()):\n\u001b[1;32m   1691\u001b[0m     \u001b[38;5;28;01mraise\u001b[39;00m \u001b[38;5;167;01mValueError\u001b[39;00m(\u001b[38;5;124m'\u001b[39m\u001b[38;5;124mCartopy cannot currently do spherical \u001b[39m\u001b[38;5;124m'\u001b[39m\n\u001b[1;32m   1692\u001b[0m                      \u001b[38;5;124m'\u001b[39m\u001b[38;5;124mscatter. The source CRS cannot be a \u001b[39m\u001b[38;5;124m'\u001b[39m\n\u001b[1;32m   1693\u001b[0m                      \u001b[38;5;124m'\u001b[39m\u001b[38;5;124mgeodetic, consider using the cyllindrical form \u001b[39m\u001b[38;5;124m'\u001b[39m\n\u001b[1;32m   1694\u001b[0m                      \u001b[38;5;124m'\u001b[39m\u001b[38;5;124m(PlateCarree or RotatedPole).\u001b[39m\u001b[38;5;124m'\u001b[39m)\n\u001b[0;32m-> 1696\u001b[0m result \u001b[38;5;241m=\u001b[39m \u001b[38;5;28;43msuper\u001b[39;49m\u001b[43m(\u001b[49m\u001b[43m)\u001b[49m\u001b[38;5;241;43m.\u001b[39;49m\u001b[43mscatter\u001b[49m\u001b[43m(\u001b[49m\u001b[38;5;241;43m*\u001b[39;49m\u001b[43margs\u001b[49m\u001b[43m,\u001b[49m\u001b[43m \u001b[49m\u001b[38;5;241;43m*\u001b[39;49m\u001b[38;5;241;43m*\u001b[39;49m\u001b[43mkwargs\u001b[49m\u001b[43m)\u001b[49m\n\u001b[1;32m   1697\u001b[0m \u001b[38;5;28mself\u001b[39m\u001b[38;5;241m.\u001b[39mautoscale_view()\n\u001b[1;32m   1698\u001b[0m \u001b[38;5;28;01mreturn\u001b[39;00m result\n",
      "File \u001b[0;32m/opt/tljh/user/lib/python3.10/site-packages/matplotlib/__init__.py:1465\u001b[0m, in \u001b[0;36m_preprocess_data.<locals>.inner\u001b[0;34m(ax, data, *args, **kwargs)\u001b[0m\n\u001b[1;32m   1462\u001b[0m \u001b[38;5;129m@functools\u001b[39m\u001b[38;5;241m.\u001b[39mwraps(func)\n\u001b[1;32m   1463\u001b[0m \u001b[38;5;28;01mdef\u001b[39;00m \u001b[38;5;21minner\u001b[39m(ax, \u001b[38;5;241m*\u001b[39margs, data\u001b[38;5;241m=\u001b[39m\u001b[38;5;28;01mNone\u001b[39;00m, \u001b[38;5;241m*\u001b[39m\u001b[38;5;241m*\u001b[39mkwargs):\n\u001b[1;32m   1464\u001b[0m     \u001b[38;5;28;01mif\u001b[39;00m data \u001b[38;5;129;01mis\u001b[39;00m \u001b[38;5;28;01mNone\u001b[39;00m:\n\u001b[0;32m-> 1465\u001b[0m         \u001b[38;5;28;01mreturn\u001b[39;00m \u001b[43mfunc\u001b[49m\u001b[43m(\u001b[49m\u001b[43max\u001b[49m\u001b[43m,\u001b[49m\u001b[43m \u001b[49m\u001b[38;5;241;43m*\u001b[39;49m\u001b[38;5;28;43mmap\u001b[39;49m\u001b[43m(\u001b[49m\u001b[43msanitize_sequence\u001b[49m\u001b[43m,\u001b[49m\u001b[43m \u001b[49m\u001b[43margs\u001b[49m\u001b[43m)\u001b[49m\u001b[43m,\u001b[49m\u001b[43m \u001b[49m\u001b[38;5;241;43m*\u001b[39;49m\u001b[38;5;241;43m*\u001b[39;49m\u001b[43mkwargs\u001b[49m\u001b[43m)\u001b[49m\n\u001b[1;32m   1467\u001b[0m     bound \u001b[38;5;241m=\u001b[39m new_sig\u001b[38;5;241m.\u001b[39mbind(ax, \u001b[38;5;241m*\u001b[39margs, \u001b[38;5;241m*\u001b[39m\u001b[38;5;241m*\u001b[39mkwargs)\n\u001b[1;32m   1468\u001b[0m     auto_label \u001b[38;5;241m=\u001b[39m (bound\u001b[38;5;241m.\u001b[39marguments\u001b[38;5;241m.\u001b[39mget(label_namer)\n\u001b[1;32m   1469\u001b[0m                   \u001b[38;5;129;01mor\u001b[39;00m bound\u001b[38;5;241m.\u001b[39mkwargs\u001b[38;5;241m.\u001b[39mget(label_namer))\n",
      "File \u001b[0;32m/opt/tljh/user/lib/python3.10/site-packages/matplotlib/axes/_axes.py:4670\u001b[0m, in \u001b[0;36mAxes.scatter\u001b[0;34m(self, x, y, s, c, marker, cmap, norm, vmin, vmax, alpha, linewidths, edgecolors, plotnonfinite, **kwargs)\u001b[0m\n\u001b[1;32m   4667\u001b[0m \u001b[38;5;28;01mif\u001b[39;00m edgecolors \u001b[38;5;129;01mis\u001b[39;00m \u001b[38;5;28;01mNone\u001b[39;00m:\n\u001b[1;32m   4668\u001b[0m     orig_edgecolor \u001b[38;5;241m=\u001b[39m kwargs\u001b[38;5;241m.\u001b[39mget(\u001b[38;5;124m'\u001b[39m\u001b[38;5;124medgecolor\u001b[39m\u001b[38;5;124m'\u001b[39m, \u001b[38;5;28;01mNone\u001b[39;00m)\n\u001b[1;32m   4669\u001b[0m c, colors, edgecolors \u001b[38;5;241m=\u001b[39m \\\n\u001b[0;32m-> 4670\u001b[0m     \u001b[38;5;28;43mself\u001b[39;49m\u001b[38;5;241;43m.\u001b[39;49m\u001b[43m_parse_scatter_color_args\u001b[49m\u001b[43m(\u001b[49m\n\u001b[1;32m   4671\u001b[0m \u001b[43m        \u001b[49m\u001b[43mc\u001b[49m\u001b[43m,\u001b[49m\u001b[43m \u001b[49m\u001b[43medgecolors\u001b[49m\u001b[43m,\u001b[49m\u001b[43m \u001b[49m\u001b[43mkwargs\u001b[49m\u001b[43m,\u001b[49m\u001b[43m \u001b[49m\u001b[43mx\u001b[49m\u001b[38;5;241;43m.\u001b[39;49m\u001b[43msize\u001b[49m\u001b[43m,\u001b[49m\n\u001b[1;32m   4672\u001b[0m \u001b[43m        \u001b[49m\u001b[43mget_next_color_func\u001b[49m\u001b[38;5;241;43m=\u001b[39;49m\u001b[38;5;28;43mself\u001b[39;49m\u001b[38;5;241;43m.\u001b[39;49m\u001b[43m_get_patches_for_fill\u001b[49m\u001b[38;5;241;43m.\u001b[39;49m\u001b[43mget_next_color\u001b[49m\u001b[43m)\u001b[49m\n\u001b[1;32m   4674\u001b[0m \u001b[38;5;28;01mif\u001b[39;00m plotnonfinite \u001b[38;5;129;01mand\u001b[39;00m colors \u001b[38;5;129;01mis\u001b[39;00m \u001b[38;5;28;01mNone\u001b[39;00m:\n\u001b[1;32m   4675\u001b[0m     c \u001b[38;5;241m=\u001b[39m np\u001b[38;5;241m.\u001b[39mma\u001b[38;5;241m.\u001b[39mmasked_invalid(c)\n",
      "File \u001b[0;32m/opt/tljh/user/lib/python3.10/site-packages/matplotlib/axes/_axes.py:4489\u001b[0m, in \u001b[0;36mAxes._parse_scatter_color_args\u001b[0;34m(c, edgecolors, kwargs, xsize, get_next_color_func)\u001b[0m\n\u001b[1;32m   4487\u001b[0m \u001b[38;5;28;01melse\u001b[39;00m:\n\u001b[1;32m   4488\u001b[0m     \u001b[38;5;28;01mif\u001b[39;00m \u001b[38;5;129;01mnot\u001b[39;00m valid_shape:\n\u001b[0;32m-> 4489\u001b[0m         \u001b[38;5;28;01mraise\u001b[39;00m invalid_shape_exception(c\u001b[38;5;241m.\u001b[39msize, xsize) \u001b[38;5;28;01mfrom\u001b[39;00m \u001b[38;5;21;01merr\u001b[39;00m\n\u001b[1;32m   4490\u001b[0m     \u001b[38;5;66;03m# Both the mapping *and* the RGBA conversion failed: pretty\u001b[39;00m\n\u001b[1;32m   4491\u001b[0m     \u001b[38;5;66;03m# severe failure => one may appreciate a verbose feedback.\u001b[39;00m\n\u001b[1;32m   4492\u001b[0m     \u001b[38;5;28;01mraise\u001b[39;00m \u001b[38;5;167;01mValueError\u001b[39;00m(\n\u001b[1;32m   4493\u001b[0m         \u001b[38;5;124mf\u001b[39m\u001b[38;5;124m\"\u001b[39m\u001b[38;5;124m'\u001b[39m\u001b[38;5;124mc\u001b[39m\u001b[38;5;124m'\u001b[39m\u001b[38;5;124m argument must be a color, a sequence of colors, \u001b[39m\u001b[38;5;124m\"\u001b[39m\n\u001b[1;32m   4494\u001b[0m         \u001b[38;5;124mf\u001b[39m\u001b[38;5;124m\"\u001b[39m\u001b[38;5;124mor a sequence of numbers, not \u001b[39m\u001b[38;5;132;01m{\u001b[39;00mc\u001b[38;5;132;01m!r}\u001b[39;00m\u001b[38;5;124m\"\u001b[39m) \u001b[38;5;28;01mfrom\u001b[39;00m \u001b[38;5;21;01merr\u001b[39;00m\n",
      "\u001b[0;31mValueError\u001b[0m: 'c' argument has 54400950 elements, which is inconsistent with 'x' and 'y' with size 354."
     ]
    },
    {
     "data": {
      "image/png": "[encoded data removed]",
      "text/plain": [
       "<Figure size 1500x1500 with 1 Axes>"
      ]
     },
     "metadata": {},
     "output_type": "display_data"
    }
   ],
   "source": [
    "plot_points_on_osgb_map(grid_east_in_area, grid_north_in_area, bouguer_anomaly_in_area, \n",
    "                       east_boundary, west_boundary, south_boundary, north_boundary) "
   ]
  },
  {
   "cell_type": "markdown",
   "id": "afc80baa-c53d-4021-a98e-91833c938df6",
   "metadata": {},
   "source": [
    "## Problem 14:\n",
    "\n",
    "I've written 100 problems for this course and this is the 15th. So why is this \"problem 14\"? **In a few sentences, write down why you think I started numbering the problems at 0, and try to explain what this means for counting and labeling \"things\" in Python.** Write your answer in the cell below using Markdown."
   ]
  },
  {
   "cell_type": "markdown",
   "id": "ad8d14d8-a96f-40ce-b2d1-538708519782",
   "metadata": {},
   "source": [
    "**Write your answer here**\n",
    "\n"
   ]
  },
  {
   "cell_type": "markdown",
   "id": "7962f7c9-6bef-4e62-95a0-362847d5576a",
   "metadata": {},
   "source": [
    "You started numbering problems at 0 because you are using zero-based indexing. So, the first element of an array is 0 instead of 1. "
   ]
  }
 ],
 "metadata": {
  "kernelspec": {
   "display_name": "Python 3 (ipykernel)",
   "language": "python",
   "name": "python3"
  },
  "language_info": {
   "codemirror_mode": {
    "name": "ipython",
    "version": 3
   },
   "file_extension": ".py",
   "mimetype": "text/x-python",
   "name": "python",
   "nbconvert_exporter": "python",
   "pygments_lexer": "ipython3",
   "version": "3.10.13"
  }
 },
 "nbformat": 4,
 "nbformat_minor": 5
}
